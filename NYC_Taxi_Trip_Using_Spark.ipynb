{
  "nbformat": 4,
  "nbformat_minor": 0,
  "metadata": {
    "colab": {
      "provenance": []
    },
    "kernelspec": {
      "name": "python3",
      "display_name": "Python 3"
    },
    "language_info": {
      "name": "python"
    }
  },
  "cells": [
    {
      "cell_type": "markdown",
      "source": [
        "# Pyspark Installation"
      ],
      "metadata": {
        "id": "9RVlArSoGgBg"
      }
    },
    {
      "cell_type": "code",
      "source": [
        "!pip install -q findspark"
      ],
      "metadata": {
        "id": "2nv0oKy1-Cjc"
      },
      "execution_count": 1,
      "outputs": []
    },
    {
      "cell_type": "code",
      "source": [
        "!pip install pyspark"
      ],
      "metadata": {
        "colab": {
          "base_uri": "https://localhost:8080/"
        },
        "id": "9LdV1emS-ZQt",
        "outputId": "fee40da6-a635-495d-c1f6-c10c8b0280c9"
      },
      "execution_count": 2,
      "outputs": [
        {
          "output_type": "stream",
          "name": "stdout",
          "text": [
            "Looking in indexes: https://pypi.org/simple, https://us-python.pkg.dev/colab-wheels/public/simple/\n",
            "Collecting pyspark\n",
            "  Downloading pyspark-3.3.0.tar.gz (281.3 MB)\n",
            "\u001b[K     |████████████████████████████████| 281.3 MB 46 kB/s \n",
            "\u001b[?25hCollecting py4j==0.10.9.5\n",
            "  Downloading py4j-0.10.9.5-py2.py3-none-any.whl (199 kB)\n",
            "\u001b[K     |████████████████████████████████| 199 kB 58.1 MB/s \n",
            "\u001b[?25hBuilding wheels for collected packages: pyspark\n",
            "  Building wheel for pyspark (setup.py) ... \u001b[?25l\u001b[?25hdone\n",
            "  Created wheel for pyspark: filename=pyspark-3.3.0-py2.py3-none-any.whl size=281764026 sha256=928fd38ee91088fd9fe86a1424f8f7aeff9c0915a145fc1a3f9c102eba4cf7d2\n",
            "  Stored in directory: /root/.cache/pip/wheels/7a/8e/1b/f73a52650d2e5f337708d9f6a1750d451a7349a867f928b885\n",
            "Successfully built pyspark\n",
            "Installing collected packages: py4j, pyspark\n",
            "Successfully installed py4j-0.10.9.5 pyspark-3.3.0\n"
          ]
        }
      ]
    },
    {
      "cell_type": "code",
      "source": [
        "import findspark\n",
        "findspark.init()"
      ],
      "metadata": {
        "id": "H5gPmmr__wbm"
      },
      "execution_count": 3,
      "outputs": []
    },
    {
      "cell_type": "code",
      "source": [
        "from pyspark.sql import SparkSession"
      ],
      "metadata": {
        "id": "XOsizfbkAySB"
      },
      "execution_count": 4,
      "outputs": []
    },
    {
      "cell_type": "code",
      "source": [
        "spark = SparkSession.builder\\\n",
        "        .master(\"local\")\\\n",
        "        .appName(\"Colab\")\\\n",
        "        .getOrCreate()"
      ],
      "metadata": {
        "id": "ckhlWzl4BdMg"
      },
      "execution_count": 7,
      "outputs": []
    },
    {
      "cell_type": "code",
      "source": [
        "spark"
      ],
      "metadata": {
        "colab": {
          "base_uri": "https://localhost:8080/",
          "height": 221
        },
        "id": "NU5QggEFDIPi",
        "outputId": "4571ebb2-5796-40b6-dc99-b31af2f17c67"
      },
      "execution_count": 8,
      "outputs": [
        {
          "output_type": "execute_result",
          "data": {
            "text/plain": [
              "<pyspark.sql.session.SparkSession at 0x7fa890f271d0>"
            ],
            "text/html": [
              "\n",
              "            <div>\n",
              "                <p><b>SparkSession - in-memory</b></p>\n",
              "                \n",
              "        <div>\n",
              "            <p><b>SparkContext</b></p>\n",
              "\n",
              "            <p><a href=\"http://2bd62af60da9:4050\">Spark UI</a></p>\n",
              "\n",
              "            <dl>\n",
              "              <dt>Version</dt>\n",
              "                <dd><code>v3.3.0</code></dd>\n",
              "              <dt>Master</dt>\n",
              "                <dd><code>local</code></dd>\n",
              "              <dt>AppName</dt>\n",
              "                <dd><code>Colab</code></dd>\n",
              "            </dl>\n",
              "        </div>\n",
              "        \n",
              "            </div>\n",
              "        "
            ]
          },
          "metadata": {},
          "execution_count": 8
        }
      ]
    },
    {
      "cell_type": "markdown",
      "source": [
        "# Load Data"
      ],
      "metadata": {
        "id": "c7DtDCtqGlXQ"
      }
    },
    {
      "cell_type": "code",
      "source": [
        "!wget https://d37ci6vzurychx.cloudfront.net/trip-data/yellow_tripdata_2021-02.parquet"
      ],
      "metadata": {
        "colab": {
          "base_uri": "https://localhost:8080/"
        },
        "id": "e9vjD8qXDMao",
        "outputId": "bdea21bc-53e5-4602-855e-2b7fcdacf65a"
      },
      "execution_count": 9,
      "outputs": [
        {
          "output_type": "stream",
          "name": "stdout",
          "text": [
            "--2022-10-03 04:30:04--  https://d37ci6vzurychx.cloudfront.net/trip-data/yellow_tripdata_2021-02.parquet\n",
            "Resolving d37ci6vzurychx.cloudfront.net (d37ci6vzurychx.cloudfront.net)... 65.9.84.31, 65.9.84.167, 65.9.84.37, ...\n",
            "Connecting to d37ci6vzurychx.cloudfront.net (d37ci6vzurychx.cloudfront.net)|65.9.84.31|:443... connected.\n",
            "HTTP request sent, awaiting response... 200 OK\n",
            "Length: 21777258 (21M) [application/x-www-form-urlencoded]\n",
            "Saving to: ‘yellow_tripdata_2021-02.parquet’\n",
            "\n",
            "yellow_tripdata_202 100%[===================>]  20.77M  5.24MB/s    in 5.3s    \n",
            "\n",
            "2022-10-03 04:30:09 (3.94 MB/s) - ‘yellow_tripdata_2021-02.parquet’ saved [21777258/21777258]\n",
            "\n"
          ]
        }
      ]
    },
    {
      "cell_type": "code",
      "source": [
        "!wget https://d37ci6vzurychx.cloudfront.net/trip-data/green_tripdata_2021-02.parquet"
      ],
      "metadata": {
        "colab": {
          "base_uri": "https://localhost:8080/"
        },
        "id": "f2mEbz7GG6yA",
        "outputId": "64d33936-fd64-4cdd-b939-5177e3d78296"
      },
      "execution_count": 10,
      "outputs": [
        {
          "output_type": "stream",
          "name": "stdout",
          "text": [
            "--2022-10-03 04:32:43--  https://d37ci6vzurychx.cloudfront.net/trip-data/green_tripdata_2021-02.parquet\n",
            "Resolving d37ci6vzurychx.cloudfront.net (d37ci6vzurychx.cloudfront.net)... 52.222.137.206, 52.222.137.90, 52.222.137.46, ...\n",
            "Connecting to d37ci6vzurychx.cloudfront.net (d37ci6vzurychx.cloudfront.net)|52.222.137.206|:443... connected.\n",
            "HTTP request sent, awaiting response... 200 OK\n",
            "Length: 1145679 (1.1M) [binary/octet-stream]\n",
            "Saving to: ‘green_tripdata_2021-02.parquet’\n",
            "\n",
            "green_tripdata_2021 100%[===================>]   1.09M  --.-KB/s    in 0.02s   \n",
            "\n",
            "2022-10-03 04:32:44 (53.5 MB/s) - ‘green_tripdata_2021-02.parquet’ saved [1145679/1145679]\n",
            "\n"
          ]
        }
      ]
    },
    {
      "cell_type": "code",
      "source": [
        "!wget https://d37ci6vzurychx.cloudfront.net/trip-data/fhv_tripdata_2021-02.parquet"
      ],
      "metadata": {
        "colab": {
          "base_uri": "https://localhost:8080/"
        },
        "id": "AJGEuhcuHhy2",
        "outputId": "626df79b-c131-4f4b-bbbb-049ed2e40f77"
      },
      "execution_count": 11,
      "outputs": [
        {
          "output_type": "stream",
          "name": "stdout",
          "text": [
            "--2022-10-03 04:41:56--  https://d37ci6vzurychx.cloudfront.net/trip-data/fhv_tripdata_2021-02.parquet\n",
            "Resolving d37ci6vzurychx.cloudfront.net (d37ci6vzurychx.cloudfront.net)... 65.9.84.37, 65.9.84.11, 65.9.84.31, ...\n",
            "Connecting to d37ci6vzurychx.cloudfront.net (d37ci6vzurychx.cloudfront.net)|65.9.84.37|:443... connected.\n",
            "HTTP request sent, awaiting response... 200 OK\n",
            "Length: 10645466 (10M) [binary/octet-stream]\n",
            "Saving to: ‘fhv_tripdata_2021-02.parquet’\n",
            "\n",
            "\r          fhv_tripd   0%[                    ]       0  --.-KB/s               \rfhv_tripdata_2021-0 100%[===================>]  10.15M  --.-KB/s    in 0.1s    \n",
            "\n",
            "2022-10-03 04:41:56 (89.6 MB/s) - ‘fhv_tripdata_2021-02.parquet’ saved [10645466/10645466]\n",
            "\n"
          ]
        }
      ]
    },
    {
      "cell_type": "code",
      "source": [
        "!wget https://d37ci6vzurychx.cloudfront.net/trip-data/fhvhv_tripdata_2021-02.parquet"
      ],
      "metadata": {
        "colab": {
          "base_uri": "https://localhost:8080/"
        },
        "id": "5oiYixm3JovA",
        "outputId": "e3bfc3a5-52e3-43e0-f4b9-42dc4b272a8c"
      },
      "execution_count": 12,
      "outputs": [
        {
          "output_type": "stream",
          "name": "stdout",
          "text": [
            "--2022-10-03 05:12:23--  https://d37ci6vzurychx.cloudfront.net/trip-data/fhvhv_tripdata_2021-02.parquet\n",
            "Resolving d37ci6vzurychx.cloudfront.net (d37ci6vzurychx.cloudfront.net)... 65.9.84.31, 65.9.84.37, 65.9.84.167, ...\n",
            "Connecting to d37ci6vzurychx.cloudfront.net (d37ci6vzurychx.cloudfront.net)|65.9.84.31|:443... connected.\n",
            "HTTP request sent, awaiting response... 200 OK\n",
            "Length: 302633211 (289M) [application/x-www-form-urlencoded]\n",
            "Saving to: ‘fhvhv_tripdata_2021-02.parquet’\n",
            "\n",
            "fhvhv_tripdata_2021 100%[===================>] 288.61M   163MB/s    in 1.8s    \n",
            "\n",
            "2022-10-03 05:12:25 (163 MB/s) - ‘fhvhv_tripdata_2021-02.parquet’ saved [302633211/302633211]\n",
            "\n"
          ]
        }
      ]
    },
    {
      "cell_type": "code",
      "source": [
        "df_yellow = spark.read.parquet(\"yellow_tripdata_2021-02.parquet\")\n",
        "df_green = spark.read.parquet(\"green_tripdata_2021-02.parquet\")\n",
        "df_fhv = spark.read.parquet(\"fhv_tripdata_2021-02.parquet\")\n",
        "df_fhvhv = spark.read.parquet(\"fhvhv_tripdata_2021-02.parquet\")"
      ],
      "metadata": {
        "id": "gNraRD3kQmwD"
      },
      "execution_count": 14,
      "outputs": []
    },
    {
      "cell_type": "code",
      "source": [
        "df_yellow = df_yellow.withColumnRenamed('tpep_pickup_datetime', 'pickup_datetime').withColumnRenamed('tpep_dropoff_datetime', 'dropoff_datetime')\n",
        "df_green = df_green.withColumnRenamed('lpep_pickup_datetime', 'pickup_datetime').withColumnRenamed('lpep_dropoff_datetime', 'dropoff_datetime')"
      ],
      "metadata": {
        "id": "5enZF8lwR3kU"
      },
      "execution_count": 15,
      "outputs": []
    },
    {
      "cell_type": "code",
      "source": [
        "df_yellow"
      ],
      "metadata": {
        "colab": {
          "base_uri": "https://localhost:8080/"
        },
        "id": "4G-hOHaYjSCp",
        "outputId": "3a1d8d6f-dcdf-4bde-e34c-3376064c6e6e"
      },
      "execution_count": 16,
      "outputs": [
        {
          "output_type": "execute_result",
          "data": {
            "text/plain": [
              "DataFrame[VendorID: bigint, pickup_datetime: timestamp, dropoff_datetime: timestamp, passenger_count: double, trip_distance: double, RatecodeID: double, store_and_fwd_flag: string, PULocationID: bigint, DOLocationID: bigint, payment_type: bigint, fare_amount: double, extra: double, mta_tax: double, tip_amount: double, tolls_amount: double, improvement_surcharge: double, total_amount: double, congestion_surcharge: double, airport_fee: double]"
            ]
          },
          "metadata": {},
          "execution_count": 16
        }
      ]
    },
    {
      "cell_type": "code",
      "source": [
        "df_yellow.show()"
      ],
      "metadata": {
        "colab": {
          "base_uri": "https://localhost:8080/"
        },
        "id": "WdyyZUZEjTQ0",
        "outputId": "c0883d85-43f1-4617-c102-91f30db961d9"
      },
      "execution_count": 17,
      "outputs": [
        {
          "output_type": "stream",
          "name": "stdout",
          "text": [
            "+--------+-------------------+-------------------+---------------+-------------+----------+------------------+------------+------------+------------+-----------+-----+-------+----------+------------+---------------------+------------+--------------------+-----------+\n",
            "|VendorID|    pickup_datetime|   dropoff_datetime|passenger_count|trip_distance|RatecodeID|store_and_fwd_flag|PULocationID|DOLocationID|payment_type|fare_amount|extra|mta_tax|tip_amount|tolls_amount|improvement_surcharge|total_amount|congestion_surcharge|airport_fee|\n",
            "+--------+-------------------+-------------------+---------------+-------------+----------+------------------+------------+------------+------------+-----------+-----+-------+----------+------------+---------------------+------------+--------------------+-----------+\n",
            "|       1|2021-02-01 00:40:47|2021-02-01 00:48:28|            1.0|          2.3|       1.0|                 N|         141|         226|           2|        8.5|  3.0|    0.5|       0.0|         0.0|                  0.3|        12.3|                 2.5|       null|\n",
            "|       1|2021-02-01 00:07:44|2021-02-01 00:20:31|            1.0|          1.6|       1.0|                 N|          43|         263|           2|        9.5|  3.0|    0.5|       0.0|         0.0|                  0.3|        13.3|                 0.0|       null|\n",
            "|       1|2021-02-01 00:59:36|2021-02-01 01:24:13|            1.0|          5.3|       1.0|                 N|         114|         263|           2|       19.0|  3.0|    0.5|       0.0|         0.0|                  0.3|        22.8|                 2.5|       null|\n",
            "|       2|2021-02-01 00:03:26|2021-02-01 00:16:32|            1.0|         2.79|       1.0|                 N|         236|         229|           1|       11.0|  0.5|    0.5|      2.96|         0.0|                  0.3|       17.76|                 2.5|       null|\n",
            "|       2|2021-02-01 00:20:20|2021-02-01 00:24:03|            2.0|         0.64|       1.0|                 N|         229|         140|           1|        4.5|  0.5|    0.5|      1.66|         0.0|                  0.3|        9.96|                 2.5|       null|\n",
            "|       2|2021-02-01 00:55:03|2021-02-01 01:03:39|            1.0|         1.97|       1.0|                 N|         238|          75|           1|        8.5|  0.5|    0.5|      1.96|         0.0|                  0.3|       11.76|                 0.0|       null|\n",
            "|       1|2021-02-01 00:09:22|2021-02-01 00:53:48|            1.0|         26.6|       1.0|                 N|         132|         200|           1|       69.0|  0.5|    0.5|       0.0|        6.12|                  0.3|       76.42|                 0.0|       null|\n",
            "|       2|2021-02-01 00:52:15|2021-02-01 01:16:24|            4.0|         6.07|       1.0|                 N|         249|         181|           1|       21.0|  0.5|    0.5|       6.2|         0.0|                  0.3|        31.0|                 2.5|       null|\n",
            "|       1|2021-02-01 00:08:29|2021-02-01 00:21:22|            1.0|          2.0|       1.0|                 N|          79|         246|           1|        9.0|  3.0|    0.5|       3.2|         0.0|                  0.3|        16.0|                 2.5|       null|\n",
            "|       1|2021-02-01 00:28:13|2021-02-01 00:31:40|            1.0|          0.8|       1.0|                 Y|          75|          74|           2|        5.0|  0.5|    0.5|       0.0|         0.0|                  0.3|         6.3|                 0.0|       null|\n",
            "|       1|2021-02-01 00:17:42|2021-02-01 00:28:23|            1.0|          2.1|       1.0|                 N|          74|          24|           2|        9.0|  0.5|    0.5|       0.0|         0.0|                  0.3|        10.3|                 0.0|       null|\n",
            "|       1|2021-02-01 00:25:10|2021-02-01 00:25:38|            1.0|          0.0|       1.0|                 N|         113|         113|           4|        2.5|  3.0|    0.5|       0.0|         0.0|                  0.3|         6.3|                 2.5|       null|\n",
            "|       1|2021-02-01 00:23:48|2021-02-01 00:34:59|            1.0|          2.8|       1.0|                 N|          90|         229|           1|       11.0|  3.0|    0.5|       3.7|         0.0|                  0.3|        18.5|                 2.5|       null|\n",
            "|       2|2021-02-01 00:18:31|2021-02-01 00:46:45|            1.0|         8.08|       1.0|                 N|          75|          88|           1|       26.5|  0.5|    0.5|      6.06|         0.0|                  0.3|       36.36|                 2.5|       null|\n",
            "|       2|2021-02-01 00:33:38|2021-02-01 00:55:59|            2.0|         6.41|       1.0|                 N|         132|         122|           2|       21.0|  0.5|    0.5|       0.0|         0.0|                  0.3|        22.3|                 0.0|       null|\n",
            "|       2|2021-02-01 00:34:13|2021-02-01 00:42:13|            1.0|         1.53|       1.0|                 N|         170|          48|           2|        7.5|  0.5|    0.5|       0.0|         0.0|                  0.3|        11.3|                 2.5|       null|\n",
            "|       1|2021-02-01 00:33:17|2021-02-01 00:33:17|            1.0|          0.0|       5.0|                 Y|         260|         264|           2|        0.0|  0.0|    0.0|       0.0|         0.0|                  0.0|         0.0|                 0.0|       null|\n",
            "|       2|2021-02-01 00:17:53|2021-02-01 00:30:23|            1.0|         2.72|       1.0|                 N|         142|          90|           1|       11.0|  0.5|    0.5|      2.96|         0.0|                  0.3|       17.76|                 2.5|       null|\n",
            "|       2|2021-02-01 00:38:17|2021-02-01 00:46:53|            1.0|         1.72|       1.0|                 N|          68|         249|           1|        7.5|  0.5|    0.5|      2.26|         0.0|                  0.3|       13.56|                 2.5|       null|\n",
            "|       2|2021-02-01 00:06:33|2021-02-01 00:13:56|            1.0|         2.42|       1.0|                 N|          79|         256|           4|       -9.0| -0.5|   -0.5|       0.0|         0.0|                 -0.3|       -12.8|                -2.5|       null|\n",
            "+--------+-------------------+-------------------+---------------+-------------+----------+------------------+------------+------------+------------+-----------+-----+-------+----------+------------+---------------------+------------+--------------------+-----------+\n",
            "only showing top 20 rows\n",
            "\n"
          ]
        }
      ]
    },
    {
      "cell_type": "code",
      "source": [
        "df_green"
      ],
      "metadata": {
        "colab": {
          "base_uri": "https://localhost:8080/"
        },
        "id": "azgP0ly-jZs0",
        "outputId": "3251e99d-7985-4ab8-a276-107b64325069"
      },
      "execution_count": 18,
      "outputs": [
        {
          "output_type": "execute_result",
          "data": {
            "text/plain": [
              "DataFrame[VendorID: bigint, pickup_datetime: timestamp, dropoff_datetime: timestamp, store_and_fwd_flag: string, RatecodeID: double, PULocationID: bigint, DOLocationID: bigint, passenger_count: double, trip_distance: double, fare_amount: double, extra: double, mta_tax: double, tip_amount: double, tolls_amount: double, ehail_fee: int, improvement_surcharge: double, total_amount: double, payment_type: double, trip_type: double, congestion_surcharge: double]"
            ]
          },
          "metadata": {},
          "execution_count": 18
        }
      ]
    },
    {
      "cell_type": "code",
      "source": [
        "df_green.show()"
      ],
      "metadata": {
        "colab": {
          "base_uri": "https://localhost:8080/"
        },
        "id": "twy-_gdwjlTa",
        "outputId": "5e31c928-54b5-47ca-aad2-56cc01a490d3"
      },
      "execution_count": 20,
      "outputs": [
        {
          "output_type": "stream",
          "name": "stdout",
          "text": [
            "+--------+-------------------+-------------------+------------------+----------+------------+------------+---------------+-------------+-----------+-----+-------+----------+------------+---------+---------------------+------------+------------+---------+--------------------+\n",
            "|VendorID|    pickup_datetime|   dropoff_datetime|store_and_fwd_flag|RatecodeID|PULocationID|DOLocationID|passenger_count|trip_distance|fare_amount|extra|mta_tax|tip_amount|tolls_amount|ehail_fee|improvement_surcharge|total_amount|payment_type|trip_type|congestion_surcharge|\n",
            "+--------+-------------------+-------------------+------------------+----------+------------+------------+---------------+-------------+-----------+-----+-------+----------+------------+---------+---------------------+------------+------------+---------+--------------------+\n",
            "|       2|2021-02-01 00:34:03|2021-02-01 00:51:58|                 N|       1.0|         130|         205|            5.0|         3.66|       14.0|  0.5|    0.5|      10.0|         0.0|     null|                  0.3|        25.3|         1.0|      1.0|                 0.0|\n",
            "|       2|2021-02-01 00:04:00|2021-02-01 00:10:30|                 N|       1.0|         152|         244|            1.0|          1.1|        6.5|  0.5|    0.5|       0.0|         0.0|     null|                  0.3|         7.8|         2.0|      1.0|                 0.0|\n",
            "|       2|2021-02-01 00:18:51|2021-02-01 00:34:06|                 N|       1.0|         152|          48|            1.0|         4.93|       16.5|  0.5|    0.5|       0.0|         0.0|     null|                  0.3|       20.55|         2.0|      1.0|                2.75|\n",
            "|       2|2021-02-01 00:53:27|2021-02-01 01:11:41|                 N|       1.0|         152|         241|            1.0|          6.7|       21.0|  0.5|    0.5|       0.0|         0.0|     null|                  0.3|        22.3|         2.0|      1.0|                 0.0|\n",
            "|       2|2021-02-01 00:57:46|2021-02-01 01:06:44|                 N|       1.0|          75|          42|            1.0|         1.89|        8.5|  0.5|    0.5|      2.45|         0.0|     null|                  0.3|       12.25|         1.0|      1.0|                 0.0|\n",
            "|       2|2021-02-01 00:33:03|2021-02-01 00:40:54|                 N|       5.0|         197|         219|            1.0|          3.3|       15.0|  0.0|    0.0|      0.76|         0.0|     null|                  0.3|       16.06|         1.0|      2.0|                 0.0|\n",
            "|       2|2021-02-01 00:18:43|2021-02-01 00:28:25|                 N|       1.0|          82|         223|            1.0|         2.51|       10.0|  0.5|    0.5|       1.5|         0.0|     null|                  0.3|        12.8|         1.0|      1.0|                 0.0|\n",
            "|       2|2021-02-01 00:06:50|2021-02-01 00:18:07|                 N|       1.0|         130|         130|            1.0|         1.68|        9.0|  0.5|    0.5|      5.08|         0.0|     null|                  0.3|       15.38|         1.0|      1.0|                 0.0|\n",
            "|       2|2021-02-01 01:25:20|2021-02-01 01:34:04|                 N|       1.0|          94|         241|            1.0|         1.44|        7.5|  0.5|    0.5|       0.0|         0.0|     null|                  0.3|         8.8|         2.0|      1.0|                 0.0|\n",
            "|       2|2021-02-01 02:56:55|2021-02-01 02:58:38|                 N|       5.0|          78|          78|            1.0|          0.0|       24.0|  0.0|    0.0|       0.0|         0.0|     null|                  0.3|        24.3|         2.0|      2.0|                 0.0|\n",
            "|       2|2021-02-01 02:53:46|2021-02-01 03:05:34|                 N|       1.0|         181|         195|            1.0|          1.9|        9.0|  0.5|    0.5|       0.0|         0.0|     null|                  0.3|        10.3|         2.0|      1.0|                 0.0|\n",
            "|       2|2021-02-01 02:34:48|2021-02-01 02:44:34|                 N|       1.0|         127|         241|            1.0|          1.9|        9.5|  0.5|    0.5|       0.0|         0.0|     null|                  0.3|        10.8|         1.0|      1.0|                 0.0|\n",
            "|       2|2021-02-01 02:32:28|2021-02-01 02:42:36|                 N|       1.0|          75|         238|            1.0|         1.73|        8.5|  0.5|    0.5|       0.0|         0.0|     null|                  0.3|       12.55|         2.0|      1.0|                2.75|\n",
            "|       2|2021-02-01 03:40:41|2021-02-01 03:44:49|                 N|       1.0|         152|         116|            2.0|         0.94|        5.5|  0.5|    0.5|       0.0|         0.0|     null|                  0.3|         6.8|         2.0|      1.0|                 0.0|\n",
            "|       2|2021-02-01 03:58:34|2021-02-01 04:06:28|                 N|       1.0|         244|         235|            1.0|         3.24|       11.0|  0.5|    0.5|       0.0|         0.0|     null|                  0.3|        12.3|         2.0|      1.0|                 0.0|\n",
            "|       2|2021-02-01 04:46:50|2021-02-01 04:55:50|                 N|       1.0|         244|         247|            1.0|         1.67|        8.5|  0.5|    0.5|       0.0|         0.0|     null|                  0.3|         9.8|         2.0|      1.0|                 0.0|\n",
            "|       2|2021-02-01 04:59:12|2021-02-01 05:05:25|                 N|       1.0|         169|         119|            1.0|          1.2|        6.5|  0.5|    0.5|       0.0|         0.0|     null|                  0.3|         7.8|         2.0|      1.0|                 0.0|\n",
            "|       2|2021-02-01 03:59:27|2021-02-01 03:59:34|                 N|       5.0|         136|         136|            1.0|         0.19|       10.0|  0.0|    0.0|       0.3|         0.0|     null|                  0.3|        10.6|         1.0|      2.0|                 0.0|\n",
            "|       2|2021-02-01 04:09:11|2021-02-01 04:09:15|                 N|       5.0|         116|         116|            2.0|          0.0|        7.0|  0.0|    0.0|       0.0|         0.0|     null|                  0.3|         7.3|         2.0|      2.0|                 0.0|\n",
            "|       2|2021-02-01 05:11:56|2021-02-01 05:17:39|                 N|       1.0|         119|         243|            1.0|         0.93|        6.0|  0.5|    0.5|       0.0|         0.0|     null|                  0.3|         7.3|         2.0|      1.0|                 0.0|\n",
            "+--------+-------------------+-------------------+------------------+----------+------------+------------+---------------+-------------+-----------+-----+-------+----------+------------+---------+---------------------+------------+------------+---------+--------------------+\n",
            "only showing top 20 rows\n",
            "\n"
          ]
        }
      ]
    },
    {
      "cell_type": "code",
      "source": [
        "common_colums = []\n",
        "\n",
        "yellow_columns = set(df_yellow.columns)\n",
        "\n",
        "for col in df_green.columns:\n",
        "    if col in yellow_columns:\n",
        "        common_colums.append(col)"
      ],
      "metadata": {
        "id": "d5gcijTljnOd"
      },
      "execution_count": 21,
      "outputs": []
    },
    {
      "cell_type": "code",
      "source": [
        "common_colums"
      ],
      "metadata": {
        "colab": {
          "base_uri": "https://localhost:8080/"
        },
        "id": "T4Inr3IZj7B1",
        "outputId": "5f812e82-3194-46a6-a748-716576b56442"
      },
      "execution_count": 22,
      "outputs": [
        {
          "output_type": "execute_result",
          "data": {
            "text/plain": [
              "['VendorID',\n",
              " 'pickup_datetime',\n",
              " 'dropoff_datetime',\n",
              " 'store_and_fwd_flag',\n",
              " 'RatecodeID',\n",
              " 'PULocationID',\n",
              " 'DOLocationID',\n",
              " 'passenger_count',\n",
              " 'trip_distance',\n",
              " 'fare_amount',\n",
              " 'extra',\n",
              " 'mta_tax',\n",
              " 'tip_amount',\n",
              " 'tolls_amount',\n",
              " 'improvement_surcharge',\n",
              " 'total_amount',\n",
              " 'payment_type',\n",
              " 'congestion_surcharge']"
            ]
          },
          "metadata": {},
          "execution_count": 22
        }
      ]
    },
    {
      "cell_type": "code",
      "source": [
        "from pyspark.sql import functions as F"
      ],
      "metadata": {
        "id": "Q2SD8LPAmB5w"
      },
      "execution_count": 23,
      "outputs": []
    },
    {
      "cell_type": "code",
      "source": [
        "df_yellow_sel = df_yellow.select(common_colums).withColumn('service_type', F.lit('yellow'))"
      ],
      "metadata": {
        "id": "2ryFyyn8mSzV"
      },
      "execution_count": 24,
      "outputs": []
    },
    {
      "cell_type": "code",
      "source": [
        "df_green_sel = df_green.select(common_colums).withColumn('service_type', F.lit('green'))"
      ],
      "metadata": {
        "id": "2USxgYKSmH0C"
      },
      "execution_count": 25,
      "outputs": []
    },
    {
      "cell_type": "code",
      "source": [
        "df_trips_data = df_green_sel.unionAll(df_yellow_sel)"
      ],
      "metadata": {
        "id": "Smw7wjXemWW6"
      },
      "execution_count": 26,
      "outputs": []
    },
    {
      "cell_type": "code",
      "source": [
        "df_trips_data.show()"
      ],
      "metadata": {
        "colab": {
          "base_uri": "https://localhost:8080/"
        },
        "id": "s6DIloKXmcK1",
        "outputId": "c21c7bca-d72d-4eef-a447-13990cbba37e"
      },
      "execution_count": 27,
      "outputs": [
        {
          "output_type": "stream",
          "name": "stdout",
          "text": [
            "+--------+-------------------+-------------------+------------------+----------+------------+------------+---------------+-------------+-----------+-----+-------+----------+------------+---------------------+------------+------------+--------------------+------------+\n",
            "|VendorID|    pickup_datetime|   dropoff_datetime|store_and_fwd_flag|RatecodeID|PULocationID|DOLocationID|passenger_count|trip_distance|fare_amount|extra|mta_tax|tip_amount|tolls_amount|improvement_surcharge|total_amount|payment_type|congestion_surcharge|service_type|\n",
            "+--------+-------------------+-------------------+------------------+----------+------------+------------+---------------+-------------+-----------+-----+-------+----------+------------+---------------------+------------+------------+--------------------+------------+\n",
            "|       2|2021-02-01 00:34:03|2021-02-01 00:51:58|                 N|       1.0|         130|         205|            5.0|         3.66|       14.0|  0.5|    0.5|      10.0|         0.0|                  0.3|        25.3|         1.0|                 0.0|       green|\n",
            "|       2|2021-02-01 00:04:00|2021-02-01 00:10:30|                 N|       1.0|         152|         244|            1.0|          1.1|        6.5|  0.5|    0.5|       0.0|         0.0|                  0.3|         7.8|         2.0|                 0.0|       green|\n",
            "|       2|2021-02-01 00:18:51|2021-02-01 00:34:06|                 N|       1.0|         152|          48|            1.0|         4.93|       16.5|  0.5|    0.5|       0.0|         0.0|                  0.3|       20.55|         2.0|                2.75|       green|\n",
            "|       2|2021-02-01 00:53:27|2021-02-01 01:11:41|                 N|       1.0|         152|         241|            1.0|          6.7|       21.0|  0.5|    0.5|       0.0|         0.0|                  0.3|        22.3|         2.0|                 0.0|       green|\n",
            "|       2|2021-02-01 00:57:46|2021-02-01 01:06:44|                 N|       1.0|          75|          42|            1.0|         1.89|        8.5|  0.5|    0.5|      2.45|         0.0|                  0.3|       12.25|         1.0|                 0.0|       green|\n",
            "|       2|2021-02-01 00:33:03|2021-02-01 00:40:54|                 N|       5.0|         197|         219|            1.0|          3.3|       15.0|  0.0|    0.0|      0.76|         0.0|                  0.3|       16.06|         1.0|                 0.0|       green|\n",
            "|       2|2021-02-01 00:18:43|2021-02-01 00:28:25|                 N|       1.0|          82|         223|            1.0|         2.51|       10.0|  0.5|    0.5|       1.5|         0.0|                  0.3|        12.8|         1.0|                 0.0|       green|\n",
            "|       2|2021-02-01 00:06:50|2021-02-01 00:18:07|                 N|       1.0|         130|         130|            1.0|         1.68|        9.0|  0.5|    0.5|      5.08|         0.0|                  0.3|       15.38|         1.0|                 0.0|       green|\n",
            "|       2|2021-02-01 01:25:20|2021-02-01 01:34:04|                 N|       1.0|          94|         241|            1.0|         1.44|        7.5|  0.5|    0.5|       0.0|         0.0|                  0.3|         8.8|         2.0|                 0.0|       green|\n",
            "|       2|2021-02-01 02:56:55|2021-02-01 02:58:38|                 N|       5.0|          78|          78|            1.0|          0.0|       24.0|  0.0|    0.0|       0.0|         0.0|                  0.3|        24.3|         2.0|                 0.0|       green|\n",
            "|       2|2021-02-01 02:53:46|2021-02-01 03:05:34|                 N|       1.0|         181|         195|            1.0|          1.9|        9.0|  0.5|    0.5|       0.0|         0.0|                  0.3|        10.3|         2.0|                 0.0|       green|\n",
            "|       2|2021-02-01 02:34:48|2021-02-01 02:44:34|                 N|       1.0|         127|         241|            1.0|          1.9|        9.5|  0.5|    0.5|       0.0|         0.0|                  0.3|        10.8|         1.0|                 0.0|       green|\n",
            "|       2|2021-02-01 02:32:28|2021-02-01 02:42:36|                 N|       1.0|          75|         238|            1.0|         1.73|        8.5|  0.5|    0.5|       0.0|         0.0|                  0.3|       12.55|         2.0|                2.75|       green|\n",
            "|       2|2021-02-01 03:40:41|2021-02-01 03:44:49|                 N|       1.0|         152|         116|            2.0|         0.94|        5.5|  0.5|    0.5|       0.0|         0.0|                  0.3|         6.8|         2.0|                 0.0|       green|\n",
            "|       2|2021-02-01 03:58:34|2021-02-01 04:06:28|                 N|       1.0|         244|         235|            1.0|         3.24|       11.0|  0.5|    0.5|       0.0|         0.0|                  0.3|        12.3|         2.0|                 0.0|       green|\n",
            "|       2|2021-02-01 04:46:50|2021-02-01 04:55:50|                 N|       1.0|         244|         247|            1.0|         1.67|        8.5|  0.5|    0.5|       0.0|         0.0|                  0.3|         9.8|         2.0|                 0.0|       green|\n",
            "|       2|2021-02-01 04:59:12|2021-02-01 05:05:25|                 N|       1.0|         169|         119|            1.0|          1.2|        6.5|  0.5|    0.5|       0.0|         0.0|                  0.3|         7.8|         2.0|                 0.0|       green|\n",
            "|       2|2021-02-01 03:59:27|2021-02-01 03:59:34|                 N|       5.0|         136|         136|            1.0|         0.19|       10.0|  0.0|    0.0|       0.3|         0.0|                  0.3|        10.6|         1.0|                 0.0|       green|\n",
            "|       2|2021-02-01 04:09:11|2021-02-01 04:09:15|                 N|       5.0|         116|         116|            2.0|          0.0|        7.0|  0.0|    0.0|       0.0|         0.0|                  0.3|         7.3|         2.0|                 0.0|       green|\n",
            "|       2|2021-02-01 05:11:56|2021-02-01 05:17:39|                 N|       1.0|         119|         243|            1.0|         0.93|        6.0|  0.5|    0.5|       0.0|         0.0|                  0.3|         7.3|         2.0|                 0.0|       green|\n",
            "+--------+-------------------+-------------------+------------------+----------+------------+------------+---------------+-------------+-----------+-----+-------+----------+------------+---------------------+------------+------------+--------------------+------------+\n",
            "only showing top 20 rows\n",
            "\n"
          ]
        }
      ]
    },
    {
      "cell_type": "markdown",
      "source": [
        "# 1. How many taxi trips were there on February 15?"
      ],
      "metadata": {
        "id": "KEQdW6CCpG6W"
      }
    },
    {
      "cell_type": "code",
      "source": [
        "df_taxi_trips = df_trips_data.withColumn('pickup_datetime',F.to_date(df_trips_data.pickup_datetime)).filter((df_trips_data['pickup_datetime']>='2021-02-15 00:00:00')&(df_trips_data['pickup_datetime']<='2021-02-16 00:00:00')).select('pickup_datetime').groupBy('pickup_datetime').count()\n",
        "df_taxi_trips.show()"
      ],
      "metadata": {
        "colab": {
          "base_uri": "https://localhost:8080/"
        },
        "id": "432yVlqympnw",
        "outputId": "68444629-82cc-4ece-92f1-1d64561e827b"
      },
      "execution_count": 32,
      "outputs": [
        {
          "output_type": "stream",
          "name": "stdout",
          "text": [
            "+---------------+-----+\n",
            "|pickup_datetime|count|\n",
            "+---------------+-----+\n",
            "|     2021-02-15|42100|\n",
            "+---------------+-----+\n",
            "\n"
          ]
        }
      ]
    },
    {
      "cell_type": "markdown",
      "source": [
        "# 2. Find the longest trip for each day ?"
      ],
      "metadata": {
        "id": "oIVdGebS2dbW"
      }
    },
    {
      "cell_type": "code",
      "source": [
        "df_longest_trip = df_trips_data.withColumn('pickup_datetime',F.to_date(df_trips_data.pickup_datetime)).select('pickup_datetime','trip_distance').filter(df_trips_data['pickup_datetime']>='2021-02-01').groupBy('pickup_datetime').max('trip_distance').sort('pickup_datetime')\n",
        "df_longest_trip.show()"
      ],
      "metadata": {
        "colab": {
          "base_uri": "https://localhost:8080/"
        },
        "id": "GQEy8rc5xUNS",
        "outputId": "040af6a8-06ae-49d8-9072-7b44a00e6580"
      },
      "execution_count": 34,
      "outputs": [
        {
          "output_type": "stream",
          "name": "stdout",
          "text": [
            "+---------------+------------------+\n",
            "|pickup_datetime|max(trip_distance)|\n",
            "+---------------+------------------+\n",
            "|     2021-02-01|             38.89|\n",
            "|     2021-02-02|             73.24|\n",
            "|     2021-02-03|         186079.73|\n",
            "|     2021-02-04|             82.19|\n",
            "|     2021-02-05|          91134.16|\n",
            "|     2021-02-06|              43.5|\n",
            "|     2021-02-07|         186510.67|\n",
            "|     2021-02-08|         186617.92|\n",
            "|     2021-02-09|           60382.7|\n",
            "|     2021-02-10|           60382.7|\n",
            "|     2021-02-11|          43174.56|\n",
            "|     2021-02-12|          66659.27|\n",
            "|     2021-02-13|         115928.92|\n",
            "|     2021-02-14|             58.03|\n",
            "|     2021-02-15|             52.89|\n",
            "|     2021-02-16|         221188.25|\n",
            "|     2021-02-17|         140145.44|\n",
            "|     2021-02-18|             75.81|\n",
            "|     2021-02-19|              70.4|\n",
            "|     2021-02-20|         188054.03|\n",
            "+---------------+------------------+\n",
            "only showing top 20 rows\n",
            "\n"
          ]
        }
      ]
    },
    {
      "cell_type": "markdown",
      "source": [
        "# 3. Find Top 5 Most frequent `dispatching_base_num` "
      ],
      "metadata": {
        "id": "JztfovTb3iZq"
      }
    },
    {
      "cell_type": "code",
      "source": [
        "most_frequent = df_fhv.groupBy(\"dispatching_base_num\").count().sort('count',ascending=False).limit(5)"
      ],
      "metadata": {
        "id": "lGp3bdJp3Y0U"
      },
      "execution_count": 35,
      "outputs": []
    },
    {
      "cell_type": "code",
      "source": [
        "most_frequent.show()"
      ],
      "metadata": {
        "colab": {
          "base_uri": "https://localhost:8080/"
        },
        "id": "3uKb4Ww74BNW",
        "outputId": "a5b6eba9-3068-4ba7-b6d1-7c0d7d24fa06"
      },
      "execution_count": 36,
      "outputs": [
        {
          "output_type": "stream",
          "name": "stdout",
          "text": [
            "+--------------------+-----+\n",
            "|dispatching_base_num|count|\n",
            "+--------------------+-----+\n",
            "|              B00856|35077|\n",
            "|              B01312|33089|\n",
            "|              B01145|31114|\n",
            "|              B02794|30397|\n",
            "|              B03016|29794|\n",
            "+--------------------+-----+\n",
            "\n"
          ]
        }
      ]
    },
    {
      "cell_type": "markdown",
      "source": [
        "# 4. Find Top 5 Most common location pairs (PUlocationID and DOlocationID)"
      ],
      "metadata": {
        "id": "PEcQ_vYM4J-U"
      }
    },
    {
      "cell_type": "code",
      "source": [
        "common_location_pair= df_trips_data.filter('PUlocationID is not NULL AND DOlocationID is not NULL').groupBy(['PUlocationID','DOlocationID']).count().sort('count',ascending=False).limit(5)"
      ],
      "metadata": {
        "id": "8TgJoLgq4D3J"
      },
      "execution_count": 39,
      "outputs": []
    },
    {
      "cell_type": "code",
      "source": [
        "common_location_pair.show()"
      ],
      "metadata": {
        "colab": {
          "base_uri": "https://localhost:8080/"
        },
        "id": "n_mF_6UZ6lkq",
        "outputId": "4db72a03-b7b4-4d32-88d8-33ac6e0db637"
      },
      "execution_count": 40,
      "outputs": [
        {
          "output_type": "stream",
          "name": "stdout",
          "text": [
            "+------------+------------+-----+\n",
            "|PUlocationID|DOlocationID|count|\n",
            "+------------+------------+-----+\n",
            "|         237|         236|11455|\n",
            "|         236|         237| 9909|\n",
            "|         236|         236| 8844|\n",
            "|         237|         237| 7324|\n",
            "|         264|         264| 5827|\n",
            "+------------+------------+-----+\n",
            "\n"
          ]
        }
      ]
    },
    {
      "cell_type": "markdown",
      "source": [
        "# 5. Write all of the result to BigQuery table"
      ],
      "metadata": {
        "id": "-QPvroH7AJk7"
      }
    },
    {
      "cell_type": "code",
      "source": [
        "df_taxi_trips.write.format('bigquery').option('table','cleaver-1.taxi.answer_1').save()"
      ],
      "metadata": {
        "id": "dVHACIWA6p-B"
      },
      "execution_count": null,
      "outputs": []
    },
    {
      "cell_type": "code",
      "source": [
        "df_longest_trip.write.format('bigquery').option('table','cleaver-1.taxi.answer_2').save()"
      ],
      "metadata": {
        "id": "tWwOnsBSAaf2"
      },
      "execution_count": null,
      "outputs": []
    },
    {
      "cell_type": "code",
      "source": [
        "most_frequent.write.format('bigquery').option('table','cleaver-1.taxi.answer_3').save()"
      ],
      "metadata": {
        "id": "b4nzmgYiAvwL"
      },
      "execution_count": null,
      "outputs": []
    },
    {
      "cell_type": "code",
      "source": [
        "common_location_pair.write.format('bigquery').option('table','cleaver-1.taxi.answer_4').save()"
      ],
      "metadata": {
        "id": "_RCQH4wLA2lw"
      },
      "execution_count": null,
      "outputs": []
    }
  ]
}